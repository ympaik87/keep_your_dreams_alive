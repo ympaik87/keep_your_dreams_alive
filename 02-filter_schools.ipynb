{
 "cells": [
  {
   "cell_type": "code",
   "execution_count": 1,
   "metadata": {},
   "outputs": [],
   "source": [
    "import json\n",
    "import pandas as pd\n",
    "import matplotlib.pyplot as plt\n",
    "import collections\n",
    "%matplotlib inline"
   ]
  },
  {
   "cell_type": "markdown",
   "metadata": {},
   "source": [
    "# Rank schools with my interests only"
   ]
  },
  {
   "cell_type": "code",
   "execution_count": 2,
   "metadata": {},
   "outputs": [],
   "source": [
    "info_df = pd.read_csv('../CSrankings/generated-author-info.csv')\n",
    "info_grouped = info_df.groupby('name')\n",
    "info_grouped_dic = dict(list(info_grouped))"
   ]
  },
  {
   "cell_type": "code",
   "execution_count": 21,
   "metadata": {},
   "outputs": [],
   "source": [
    "info_recent_df = info_df[info_df['year'] > 2013]"
   ]
  },
  {
   "cell_type": "code",
   "execution_count": 22,
   "metadata": {},
   "outputs": [],
   "source": [
    "info_by_dpt_dic = dict(list(info_recent_df.groupby('dept')))"
   ]
  },
  {
   "cell_type": "code",
   "execution_count": 5,
   "metadata": {},
   "outputs": [],
   "source": [
    "with open('area_rank.json') as f:\n",
    "    area_rank_dic = json.load(f)"
   ]
  },
  {
   "cell_type": "code",
   "execution_count": 6,
   "metadata": {},
   "outputs": [],
   "source": [
    "with open('area_map.json') as f:\n",
    "    area_map = json.load(f)"
   ]
  },
  {
   "cell_type": "code",
   "execution_count": 7,
   "metadata": {},
   "outputs": [],
   "source": [
    "interest_area = ['ML', 'AI', 'NLP', 'Vision', 'Comp']"
   ]
  },
  {
   "cell_type": "code",
   "execution_count": 23,
   "metadata": {},
   "outputs": [],
   "source": [
    "area_dept_rank_dic = {}\n",
    "for a in interest_area:\n",
    "    _srs = pd.Series(area_rank_dic[a])\n",
    "    sorted_srs = _srs.sort_values(ascending=False)[:100]\n",
    "    _li = []\n",
    "    for name in sorted_srs.index:\n",
    "        _li.append(info_grouped_dic[name]['dept'].value_counts().index[0])\n",
    "    li_count = collections.Counter(_li)\n",
    "    area_dept_rank_dic[a] = dict(li_count.most_common(50))"
   ]
  },
  {
   "cell_type": "code",
   "execution_count": 24,
   "metadata": {
    "scrolled": false
   },
   "outputs": [],
   "source": [
    "sorted_school_df = pd.DataFrame(area_dept_rank_dic).sum(axis=1).sort_values(ascending=False)"
   ]
  },
  {
   "cell_type": "code",
   "execution_count": 25,
   "metadata": {
    "scrolled": true
   },
   "outputs": [
    {
     "data": {
      "text/plain": [
       "Carnegie Mellon University                5.0\n",
       "Massachusetts Institute of Technology     4.0\n",
       "Tel Aviv University                       4.0\n",
       "University of California - Los Angeles    4.0\n",
       "Univ. of Illinois at Urbana-Champaign     3.0\n",
       "University of California - San Diego      3.0\n",
       "Pennsylvania State University             3.0\n",
       "University of Toronto                     3.0\n",
       "Max Planck Institute                      3.0\n",
       "National University of Singapore          2.0\n",
       "Duke University                           2.0\n",
       "Princeton University                      2.0\n",
       "Rice University                           2.0\n",
       "McGill University                         2.0\n",
       "Rutgers University                        2.0\n",
       "Stony Brook University                    2.0\n",
       "Texas A&M University                      2.0\n",
       "Stanford University                       2.0\n",
       "University of California - Riverside      2.0\n",
       "University of Connecticut                 2.0\n",
       "Brown University                          2.0\n",
       "University of Washington                  2.0\n",
       "University of Montreal                    2.0\n",
       "Case Western Reserve University           2.0\n",
       "Indiana University                        2.0\n",
       "University of California - Irvine         2.0\n",
       "University of California - Berkeley       2.0\n",
       "Hebrew University of Jerusalem            1.0\n",
       "Dartmouth College                         1.0\n",
       "Columbia University                       1.0\n",
       "Friedrich Schiller University Jena        1.0\n",
       "ETH Zurich                                1.0\n",
       "California Institute of Technology        1.0\n",
       "EPFL                                      1.0\n",
       "KAUST                                     1.0\n",
       "Washington University in St. Louis        1.0\n",
       "Kyoto University                          1.0\n",
       "LMU Munich                                1.0\n",
       "University of Wisconsin - Madison         1.0\n",
       "TTI Chicago                               1.0\n",
       "TU Munich                                 1.0\n",
       "Technion                                  1.0\n",
       "Tsinghua University                       1.0\n",
       "University of Arizona                     1.0\n",
       "University of Colorado Boulder            1.0\n",
       "University of Freiburg                    1.0\n",
       "University of Southern California         1.0\n",
       "University of Texas at Arlington          1.0\n",
       "University of Waterloo                    1.0\n",
       "Bielefeld University                      1.0\n",
       "Name: Comp, dtype: float64"
      ]
     },
     "execution_count": 25,
     "metadata": {},
     "output_type": "execute_result"
    }
   ],
   "source": [
    "pd.DataFrame(area_dept_rank_dic)['Comp'].dropna().sort_values(ascending=False)"
   ]
  },
  {
   "cell_type": "code",
   "execution_count": 26,
   "metadata": {},
   "outputs": [
    {
     "data": {
      "text/plain": [
       "name\n",
       "Dinesh Manocha               11.366667\n",
       "Larry S. Davis                9.314683\n",
       "Jordan L. Boyd-Graber         9.059524\n",
       "Rama Chellappa                8.100000\n",
       "Hal Daumé III                 7.892857\n",
       "Mohammad Taghi Hajiaghayi     7.273016\n",
       "Jonathan Katz                 6.480159\n",
       "Niklas Elmqvist               5.039286\n",
       "Charalampos Papamanthou       4.883333\n",
       "Daniel J. Abadi               4.875000\n",
       "John P. Dickerson             4.550000\n",
       "Michelle L. Mazurek           4.186905\n",
       "Amol Deshpande                3.700000\n",
       "Michael W. Hicks              3.459524\n",
       "Philip Resnik                 3.366667\n",
       "Tom Goldstein                 3.361905\n",
       "Dave Levin                    3.315873\n",
       "Yiannis Aloimonos             3.283333\n",
       "Gang Qu                       3.226190\n",
       "Aravind Srinivasan            3.100000\n",
       "Ming C. Lin                   2.950000\n",
       "David W. Jacobs               2.842857\n",
       "David Van Horn                2.842857\n",
       "Tudor Dumitras                2.835714\n",
       "Abhinav Shrivastava           2.700000\n",
       "Nirupam Roy                   2.650000\n",
       "Marine Carpuat                2.583333\n",
       "Neil Spring                   2.441667\n",
       "Amanda Lazar                  2.366667\n",
       "Dana Dachman-Soled            2.300000\n",
       "                               ...    \n",
       "Eun Kyoung Choe               2.100000\n",
       "Ankur Srivastava              1.866667\n",
       "Matthias Zwicker              1.726190\n",
       "Hernisa Kacorri               1.700000\n",
       "Huaishu Peng                  1.601190\n",
       "Hanan Samet                   1.333333\n",
       "Gorjan Alagic                 1.333333\n",
       "David M. Mount                1.333333\n",
       "V. S. Subrahmanian            1.283333\n",
       "Michael W. Otte               1.166667\n",
       "Soheil Feizi                  1.083333\n",
       "Leilani Battle                0.916667\n",
       "Naomi Feldman                 0.916667\n",
       "Jennifer Golbeck              0.650000\n",
       "Amitabh Varshney              0.583333\n",
       "Andrew M. Childs              0.533333\n",
       "Donald Yeung                  0.500000\n",
       "Jeffrey K. Hollingsworth      0.500000\n",
       "Rance Cleaveland              0.500000\n",
       "James Purtilo                 0.333333\n",
       "Ben Shneiderman               0.250000\n",
       "Furong Huang                  0.250000\n",
       "Eytan Ruppin                  0.250000\n",
       "Atif Memon                    0.200000\n",
       "Héctor Corrada Bravo          0.200000\n",
       "Douglas W. Oard               0.200000\n",
       "Adam A. Porter                0.200000\n",
       "Mark D. M. Leiserson          0.166667\n",
       "Donald Perlis                 0.166667\n",
       "Ramani Duraiswami             0.125000\n",
       "Name: adjustedcount, Length: 61, dtype: float64"
      ]
     },
     "execution_count": 26,
     "metadata": {},
     "output_type": "execute_result"
    }
   ],
   "source": [
    "info_by_dpt_dic['University of Maryland - College Park'].groupby('name').sum()['adjustedcount'].sort_values(ascending=False)"
   ]
  },
  {
   "cell_type": "markdown",
   "metadata": {},
   "source": [
    "# Filter only US schools"
   ]
  },
  {
   "cell_type": "code",
   "execution_count": 27,
   "metadata": {},
   "outputs": [
    {
     "data": {
      "text/html": [
       "<div>\n",
       "<style scoped>\n",
       "    .dataframe tbody tr th:only-of-type {\n",
       "        vertical-align: middle;\n",
       "    }\n",
       "\n",
       "    .dataframe tbody tr th {\n",
       "        vertical-align: top;\n",
       "    }\n",
       "\n",
       "    .dataframe thead th {\n",
       "        text-align: right;\n",
       "    }\n",
       "</style>\n",
       "<table border=\"1\" class=\"dataframe\">\n",
       "  <thead>\n",
       "    <tr style=\"text-align: right;\">\n",
       "      <th></th>\n",
       "      <th>region</th>\n",
       "    </tr>\n",
       "    <tr>\n",
       "      <th>institution</th>\n",
       "      <th></th>\n",
       "    </tr>\n",
       "  </thead>\n",
       "  <tbody>\n",
       "    <tr>\n",
       "      <th>Aalto University</th>\n",
       "      <td>europe</td>\n",
       "    </tr>\n",
       "    <tr>\n",
       "      <th>Aarhus University</th>\n",
       "      <td>europe</td>\n",
       "    </tr>\n",
       "    <tr>\n",
       "      <th>Aalborg University</th>\n",
       "      <td>europe</td>\n",
       "    </tr>\n",
       "    <tr>\n",
       "      <th>American University of Beirut</th>\n",
       "      <td>asia</td>\n",
       "    </tr>\n",
       "    <tr>\n",
       "      <th>Ariel University</th>\n",
       "      <td>europe</td>\n",
       "    </tr>\n",
       "  </tbody>\n",
       "</table>\n",
       "</div>"
      ],
      "text/plain": [
       "                               region\n",
       "institution                          \n",
       "Aalto University               europe\n",
       "Aarhus University              europe\n",
       "Aalborg University             europe\n",
       "American University of Beirut    asia\n",
       "Ariel University               europe"
      ]
     },
     "execution_count": 27,
     "metadata": {},
     "output_type": "execute_result"
    }
   ],
   "source": [
    "country_df = pd.read_csv('../CSrankings/country-info.csv', index_col=0)\n",
    "country_df.head()"
   ]
  },
  {
   "cell_type": "code",
   "execution_count": 28,
   "metadata": {},
   "outputs": [
    {
     "data": {
      "text/plain": [
       "europe          112\n",
       "asia             72\n",
       "canada           24\n",
       "southamerica     18\n",
       "australasia      17\n",
       "africa            2\n",
       " europe           1\n",
       "Name: region, dtype: int64"
      ]
     },
     "execution_count": 28,
     "metadata": {},
     "output_type": "execute_result"
    }
   ],
   "source": [
    "country_df['region'].value_counts()"
   ]
  },
  {
   "cell_type": "code",
   "execution_count": 29,
   "metadata": {},
   "outputs": [
    {
     "data": {
      "text/plain": [
       "Carnegie Mellon University                27.0\n",
       "University of California - Berkeley       13.0\n",
       "Massachusetts Institute of Technology     12.0\n",
       "Stanford University                       12.0\n",
       "University of California - Los Angeles    11.0\n",
       "dtype: float64"
      ]
     },
     "execution_count": 29,
     "metadata": {},
     "output_type": "execute_result"
    }
   ],
   "source": [
    "sorted_school_df.head()"
   ]
  },
  {
   "cell_type": "code",
   "execution_count": 30,
   "metadata": {},
   "outputs": [
    {
     "data": {
      "text/plain": [
       "126"
      ]
     },
     "execution_count": 30,
     "metadata": {},
     "output_type": "execute_result"
    }
   ],
   "source": [
    "len(sorted_school_df)"
   ]
  },
  {
   "cell_type": "code",
   "execution_count": 31,
   "metadata": {},
   "outputs": [
    {
     "data": {
      "text/plain": [
       "Carnegie Mellon University                27.0\n",
       "University of California - Berkeley       13.0\n",
       "Massachusetts Institute of Technology     12.0\n",
       "Stanford University                       12.0\n",
       "University of California - Los Angeles    11.0\n",
       "Cornell University                        11.0\n",
       "University of California - San Diego       9.0\n",
       "University of Maryland - College Park      9.0\n",
       "Columbia University                        9.0\n",
       "University of Texas at Austin              8.0\n",
       "University of Pennsylvania                 8.0\n",
       "Johns Hopkins University                   8.0\n",
       "University of Michigan                     7.0\n",
       "Univ. of Illinois at Urbana-Champaign      7.0\n",
       "Rutgers University                         6.0\n",
       "Brown University                           6.0\n",
       "Georgia Institute of Technology            6.0\n",
       "University of Washington                   5.0\n",
       "Oregon State University                    4.0\n",
       "University of California - Irvine          4.0\n",
       "Duke University                            4.0\n",
       "University of Pittsburgh                   4.0\n",
       "University of Southern California          4.0\n",
       "Pennsylvania State University              4.0\n",
       "Princeton University                       4.0\n",
       "Arizona State University                   3.0\n",
       "University of California - Santa Cruz      3.0\n",
       "Harvard University                         3.0\n",
       "University of Massachusetts Amherst        3.0\n",
       "University of Rochester                    3.0\n",
       "                                          ... \n",
       "Indiana University                         2.0\n",
       "Case Western Reserve University            2.0\n",
       "California Institute of Technology         2.0\n",
       "University of Colorado Boulder             2.0\n",
       "University of Texas at Arlington           2.0\n",
       "Texas A&M University                       2.0\n",
       "Rensselaer Polytechnic Institute           2.0\n",
       "University of Connecticut                  2.0\n",
       "Yale University                            2.0\n",
       "University of Illinois at Chicago          2.0\n",
       "TTI Chicago                                2.0\n",
       "Stony Brook University                     2.0\n",
       "Washington University in St. Louis         2.0\n",
       "Rice University                            2.0\n",
       "University of California - Riverside       2.0\n",
       "University of Notre Dame                   1.0\n",
       "University of North Carolina               1.0\n",
       "Dartmouth College                          1.0\n",
       "University of Utah                         1.0\n",
       "University of Wisconsin - Madison          1.0\n",
       "Boston University                          1.0\n",
       "University of Minnesota                    1.0\n",
       "Northeastern University                    1.0\n",
       "North Carolina State University            1.0\n",
       "Mississippi State University               1.0\n",
       "University of Arizona                      1.0\n",
       "University of Central Florida              1.0\n",
       "University of Kentucky                     1.0\n",
       "University of Florida                      1.0\n",
       "University of Iowa                         1.0\n",
       "Length: 63, dtype: float64"
      ]
     },
     "execution_count": 31,
     "metadata": {},
     "output_type": "execute_result"
    }
   ],
   "source": [
    "sorted_US_df = sorted_school_df.drop(country_df.index, errors='ignore')\n",
    "sorted_US_df"
   ]
  },
  {
   "cell_type": "code",
   "execution_count": 50,
   "metadata": {},
   "outputs": [
    {
     "data": {
      "image/png": "[encoded data removed]",
      "text/plain": [
       "<Figure size 432x864 with 1 Axes>"
      ]
     },
     "metadata": {
      "needs_background": "light"
     },
     "output_type": "display_data"
    }
   ],
   "source": [
    "plt.figure(figsize=(6,12))\n",
    "sorted_US_df.plot.barh()\n",
    "plt.grid()\n",
    "plt.tight_layout()\n",
    "plt.savefig('sorted_school_scores.png')"
   ]
  },
  {
   "cell_type": "code",
   "execution_count": 34,
   "metadata": {},
   "outputs": [
    {
     "data": {
      "text/plain": [
       "name\n",
       "Gaurav S. Sukhatme        9.551190\n",
       "Ilias Diakonikolas        8.350000\n",
       "Chao Wang 0001            8.233333\n",
       "Fei Sha                   6.466667\n",
       "David Kempe 0001          5.500000\n",
       "Milind Tambe              5.080988\n",
       "Shaddin Dughmi            4.866667\n",
       "Xuehai Qian               4.813366\n",
       "Ramakant Nevatia          4.757576\n",
       "Ramesh Govindan           4.134325\n",
       "Xiang Ren                 3.946429\n",
       "Haipeng Luo               3.533333\n",
       "Hao Li 0015               3.524206\n",
       "Sven Koenig               3.492857\n",
       "Murali Annavaram          3.478968\n",
       "Yan Liu 0002              3.316667\n",
       "Joseph J. Lim             3.085714\n",
       "Nora Ayanian              3.042857\n",
       "William G. J. Halfond     2.709524\n",
       "Laurent Itti              2.700000\n",
       "Jernej Barbic             2.476190\n",
       "Cyrus Shahabi             2.450000\n",
       "Muhammad Naveed 0001      1.961905\n",
       "Ulrich Neumann            1.959524\n",
       "Nenad Medvidovic          1.750000\n",
       "Jyotirmoy V. Deshmukh     1.683333\n",
       "Maja J. Mataric           1.666667\n",
       "Shrikanth S. Narayanan    1.283333\n",
       "Viktor K. Prasanna        1.166667\n",
       "C.-C. Jay Kuo             1.126190\n",
       "Shang-Hua Teng            0.916667\n",
       "Bhaskar Krishnamachari    0.809524\n",
       "Aleksandra Korolova       0.783333\n",
       "Ming-Deh A. Huang         0.333333\n",
       "Leana Golubchik           0.200000\n",
       "Barry W. Boehm            0.200000\n",
       "Rajiv K. Kalia            0.111111\n",
       "Aiichiro Nakano           0.111111\n",
       "Name: adjustedcount, dtype: float64"
      ]
     },
     "execution_count": 34,
     "metadata": {},
     "output_type": "execute_result"
    }
   ],
   "source": [
    "info_by_dpt_dic['University of Southern California'].groupby('name').sum()['adjustedcount'].sort_values(ascending=False)"
   ]
  },
  {
   "cell_type": "code",
   "execution_count": 42,
   "metadata": {
    "scrolled": true
   },
   "outputs": [
    {
     "data": {
      "text/plain": [
       "{'Gaurav S. Sukhatme': 9.551190476182999,\n",
       " 'Ilias Diakonikolas': 8.350000000001,\n",
       " 'Chao Wang 0001': 8.233333333335,\n",
       " 'Fei Sha': 6.466666666666001,\n",
       " 'David Kempe 0001': 5.499999999998,\n",
       " 'Milind Tambe': 5.080988455986,\n",
       " 'Shaddin Dughmi': 4.866666666666,\n",
       " 'Xuehai Qian': 4.813365800866101,\n",
       " 'Ramakant Nevatia': 4.757575757574,\n",
       " 'Ramesh Govindan': 4.134325396825,\n",
       " 'Xiang Ren': 3.946428571429,\n",
       " 'Haipeng Luo': 3.533333333333,\n",
       " 'Hao Li 0015': 3.524206349206,\n",
       " 'Sven Koenig': 3.492857142856,\n",
       " 'Murali Annavaram': 3.4789682539680005,\n",
       " 'Yan Liu 0002': 3.31666666667,\n",
       " 'Joseph J. Lim': 3.085714285713,\n",
       " 'Nora Ayanian': 3.0428571428569997,\n",
       " 'William G. J. Halfond': 2.7095238095230005,\n",
       " 'Laurent Itti': 2.699999999999,\n",
       " 'Jernej Barbic': 2.47619047619,\n",
       " 'Cyrus Shahabi': 2.45,\n",
       " 'Muhammad Naveed 0001': 1.961904761904,\n",
       " 'Ulrich Neumann': 1.9595238095229999,\n",
       " 'Nenad Medvidovic': 1.75,\n",
       " 'Jyotirmoy V. Deshmukh': 1.6833333333329998,\n",
       " 'Maja J. Mataric': 1.666666666667,\n",
       " 'Shrikanth S. Narayanan': 1.283333333333,\n",
       " 'Viktor K. Prasanna': 1.166666666666,\n",
       " 'C.-C. Jay Kuo': 1.12619047619,\n",
       " 'Shang-Hua Teng': 0.916666666667,\n",
       " 'Bhaskar Krishnamachari': 0.809523809523,\n",
       " 'Aleksandra Korolova': 0.7833333333329999,\n",
       " 'Ming-Deh A. Huang': 0.33333333333299997,\n",
       " 'Leana Golubchik': 0.2,\n",
       " 'Barry W. Boehm': 0.2,\n",
       " 'Rajiv K. Kalia': 0.111111111111,\n",
       " 'Aiichiro Nakano': 0.111111111111}"
      ]
     },
     "execution_count": 42,
     "metadata": {},
     "output_type": "execute_result"
    }
   ],
   "source": [
    "dict(info_by_dpt_dic['University of Southern California'].groupby('name').sum()['adjustedcount'].sort_values(ascending=False))"
   ]
  },
  {
   "cell_type": "code",
   "execution_count": 43,
   "metadata": {},
   "outputs": [],
   "source": [
    "faculties_dic = {}\n",
    "for school in sorted_US_df.index:\n",
    "    faculties_dic[school] = dict(info_by_dpt_dic[school].groupby('name').sum()['adjustedcount'].sort_values(ascending=False))"
   ]
  },
  {
   "cell_type": "code",
   "execution_count": 44,
   "metadata": {
    "scrolled": true
   },
   "outputs": [
    {
     "data": {
      "text/plain": [
       "dict_keys(['Carnegie Mellon University', 'University of California - Berkeley', 'Massachusetts Institute of Technology', 'Stanford University', 'University of California - Los Angeles', 'Cornell University', 'University of California - San Diego', 'University of Maryland - College Park', 'Columbia University', 'University of Texas at Austin', 'University of Pennsylvania', 'Johns Hopkins University', 'University of Michigan', 'Univ. of Illinois at Urbana-Champaign', 'Rutgers University', 'Brown University', 'Georgia Institute of Technology', 'University of Washington', 'Oregon State University', 'University of California - Irvine', 'Duke University', 'University of Pittsburgh', 'University of Southern California', 'Pennsylvania State University', 'Princeton University', 'Arizona State University', 'University of California - Santa Cruz', 'Harvard University', 'University of Massachusetts Amherst', 'University of Rochester', 'University of Texas at Dallas', 'Northwestern University', 'New York University', 'Indiana University', 'Case Western Reserve University', 'California Institute of Technology', 'University of Colorado Boulder', 'University of Texas at Arlington', 'Texas A&M University', 'Rensselaer Polytechnic Institute', 'University of Connecticut', 'Yale University', 'University of Illinois at Chicago', 'TTI Chicago', 'Stony Brook University', 'Washington University in St. Louis', 'Rice University', 'University of California - Riverside', 'University of Notre Dame', 'University of North Carolina', 'Dartmouth College', 'University of Utah', 'University of Wisconsin - Madison', 'Boston University', 'University of Minnesota', 'Northeastern University', 'North Carolina State University', 'Mississippi State University', 'University of Arizona', 'University of Central Florida', 'University of Kentucky', 'University of Florida', 'University of Iowa'])"
      ]
     },
     "execution_count": 44,
     "metadata": {},
     "output_type": "execute_result"
    }
   ],
   "source": [
    "faculties_dic.keys()"
   ]
  },
  {
   "cell_type": "code",
   "execution_count": 45,
   "metadata": {},
   "outputs": [],
   "source": [
    "faculties_json = json.dumps(faculties_dic)\n",
    "with open('faculties_by_interests.json', 'w') as f:\n",
    "    f.write(faculties_json)"
   ]
  },
  {
   "cell_type": "code",
   "execution_count": null,
   "metadata": {},
   "outputs": [],
   "source": []
  },
  {
   "cell_type": "code",
   "execution_count": null,
   "metadata": {},
   "outputs": [],
   "source": []
  }
 ],
 "metadata": {
  "kernelspec": {
   "display_name": "Python 3",
   "language": "python",
   "name": "python3"
  },
  "language_info": {
   "codemirror_mode": {
    "name": "ipython",
    "version": 3
   },
   "file_extension": ".py",
   "mimetype": "text/x-python",
   "name": "python",
   "nbconvert_exporter": "python",
   "pygments_lexer": "ipython3",
   "version": "3.7.3"
  }
 },
 "nbformat": 4,
 "nbformat_minor": 2
}
